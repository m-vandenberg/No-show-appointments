{
 "cells": [
  {
   "cell_type": "markdown",
   "metadata": {},
   "source": [
    "# Project: Investigate a Dataset - No-show appointments\n",
    "\n",
    "## Table of Contents\n",
    "<ul>\n",
    "<li><a href=\"#intro\">Introduction</a></li>\n",
    "<li><a href=\"#wrangling\">Data Wrangling</a></li>\n",
    "<li><a href=\"#eda\">Exploratory Data Analysis</a></li>\n",
    "<li><a href=\"#conclusions\">Conclusions</a></li>\n",
    "</ul>"
   ]
  },
  {
   "cell_type": "markdown",
   "metadata": {},
   "source": [
    "<a id='intro'></a>\n",
    "## Introduction\n",
    "\n",
    "### Dataset Description \n",
    "\n",
    "The dataset contains information centered around the question of whether or not a patient attended their medical appointment in Brazil.\n",
    "\n",
    "The dataset is made up of the following columns;\n",
    "PatientId: Patient identification,\n",
    "AppointmentID: Appointment identification,\n",
    "Gender: Gender of the patient (Male/Female),\n",
    "ScheduledDay: The day the appointment was made,\n",
    "AppointmentDay: The date of the appointment,\n",
    "Age: Age of the patient,\n",
    "Neighbourhood: Location where the appointment takes place,\n",
    "Scholarship: Whether the patient is part of the Brazilian social welfare program - Bolsa Família,\n",
    "Hipertension: Whether the patient suffers from hypertension (True/False),\n",
    "Diabetes: Whether the patient suffers from diabetes (True/False),\n",
    "Alcoholism: Whether the patient suffers from alcoholism (True/False),\n",
    "Handcap: Whether the patient is Handicapped (True/False),\n",
    "SMS_received: Whether the patient received 1 or more messages and No-show: Whether the patient didn't attend their appointment (Yes/No).\n",
    "\n",
    "### Question(s) for Analysis\n",
    "\n",
    "* What percent of patients do not attend their scheduled appointment?\n",
    "* Does gender play a factor in whether a patient will attend their scheduled appointment?\n",
    "* Does a pre-existing condition play a factor in whether a patient will attend their scheduled appointment?\n",
    "* Does receiving an sms play a factor in whether a patient will attend their scheduled appointment?\n",
    "* Does having a scholarship play a factor in whether a patient will attend their scheduled appointment?\n",
    "* Does age play a factor in whether a patient will attend their scheduled appointment?"
   ]
  },
  {
   "cell_type": "code",
   "execution_count": 268,
   "metadata": {},
   "outputs": [],
   "source": [
    "# Import packages\n",
    "import matplotlib.pyplot as plt\n",
    "import numpy as np\n",
    "import pandas as pd\n",
    "\n",
    "%matplotlib inline"
   ]
  },
  {
   "cell_type": "code",
   "execution_count": 269,
   "metadata": {},
   "outputs": [
    {
     "name": "stdout",
     "output_type": "stream",
     "text": [
      "Requirement already up-to-date: pandas==0.25.0 in /opt/conda/lib/python3.6/site-packages (0.25.0)\n",
      "Requirement already satisfied, skipping upgrade: numpy>=1.13.3 in /opt/conda/lib/python3.6/site-packages (from pandas==0.25.0) (1.19.5)\n",
      "Requirement already satisfied, skipping upgrade: pytz>=2017.2 in /opt/conda/lib/python3.6/site-packages (from pandas==0.25.0) (2017.3)\n",
      "Requirement already satisfied, skipping upgrade: python-dateutil>=2.6.1 in /opt/conda/lib/python3.6/site-packages (from pandas==0.25.0) (2.6.1)\n",
      "Requirement already satisfied, skipping upgrade: six>=1.5 in /opt/conda/lib/python3.6/site-packages (from python-dateutil>=2.6.1->pandas==0.25.0) (1.11.0)\n"
     ]
    }
   ],
   "source": [
    "# Upgrade pandas to use dataframe.explode() function. \n",
    "!pip install --upgrade pandas==0.25.0"
   ]
  },
  {
   "cell_type": "markdown",
   "metadata": {},
   "source": [
    "<a id='wrangling'></a>\n",
    "## Data Wrangling\n",
    "\n",
    "### General Properties"
   ]
  },
  {
   "cell_type": "code",
   "execution_count": 270,
   "metadata": {},
   "outputs": [
    {
     "data": {
      "text/html": [
       "<div>\n",
       "<style scoped>\n",
       "    .dataframe tbody tr th:only-of-type {\n",
       "        vertical-align: middle;\n",
       "    }\n",
       "\n",
       "    .dataframe tbody tr th {\n",
       "        vertical-align: top;\n",
       "    }\n",
       "\n",
       "    .dataframe thead th {\n",
       "        text-align: right;\n",
       "    }\n",
       "</style>\n",
       "<table border=\"1\" class=\"dataframe\">\n",
       "  <thead>\n",
       "    <tr style=\"text-align: right;\">\n",
       "      <th></th>\n",
       "      <th>PatientId</th>\n",
       "      <th>AppointmentID</th>\n",
       "      <th>Gender</th>\n",
       "      <th>ScheduledDay</th>\n",
       "      <th>AppointmentDay</th>\n",
       "      <th>Age</th>\n",
       "      <th>Neighbourhood</th>\n",
       "      <th>Scholarship</th>\n",
       "      <th>Hipertension</th>\n",
       "      <th>Diabetes</th>\n",
       "      <th>Alcoholism</th>\n",
       "      <th>Handcap</th>\n",
       "      <th>SMS_received</th>\n",
       "      <th>No-show</th>\n",
       "    </tr>\n",
       "  </thead>\n",
       "  <tbody>\n",
       "    <tr>\n",
       "      <th>0</th>\n",
       "      <td>2.987250e+13</td>\n",
       "      <td>5642903</td>\n",
       "      <td>F</td>\n",
       "      <td>2016-04-29T18:38:08Z</td>\n",
       "      <td>2016-04-29T00:00:00Z</td>\n",
       "      <td>62</td>\n",
       "      <td>JARDIM DA PENHA</td>\n",
       "      <td>0</td>\n",
       "      <td>1</td>\n",
       "      <td>0</td>\n",
       "      <td>0</td>\n",
       "      <td>0</td>\n",
       "      <td>0</td>\n",
       "      <td>No</td>\n",
       "    </tr>\n",
       "    <tr>\n",
       "      <th>1</th>\n",
       "      <td>5.589978e+14</td>\n",
       "      <td>5642503</td>\n",
       "      <td>M</td>\n",
       "      <td>2016-04-29T16:08:27Z</td>\n",
       "      <td>2016-04-29T00:00:00Z</td>\n",
       "      <td>56</td>\n",
       "      <td>JARDIM DA PENHA</td>\n",
       "      <td>0</td>\n",
       "      <td>0</td>\n",
       "      <td>0</td>\n",
       "      <td>0</td>\n",
       "      <td>0</td>\n",
       "      <td>0</td>\n",
       "      <td>No</td>\n",
       "    </tr>\n",
       "    <tr>\n",
       "      <th>2</th>\n",
       "      <td>4.262962e+12</td>\n",
       "      <td>5642549</td>\n",
       "      <td>F</td>\n",
       "      <td>2016-04-29T16:19:04Z</td>\n",
       "      <td>2016-04-29T00:00:00Z</td>\n",
       "      <td>62</td>\n",
       "      <td>MATA DA PRAIA</td>\n",
       "      <td>0</td>\n",
       "      <td>0</td>\n",
       "      <td>0</td>\n",
       "      <td>0</td>\n",
       "      <td>0</td>\n",
       "      <td>0</td>\n",
       "      <td>No</td>\n",
       "    </tr>\n",
       "    <tr>\n",
       "      <th>3</th>\n",
       "      <td>8.679512e+11</td>\n",
       "      <td>5642828</td>\n",
       "      <td>F</td>\n",
       "      <td>2016-04-29T17:29:31Z</td>\n",
       "      <td>2016-04-29T00:00:00Z</td>\n",
       "      <td>8</td>\n",
       "      <td>PONTAL DE CAMBURI</td>\n",
       "      <td>0</td>\n",
       "      <td>0</td>\n",
       "      <td>0</td>\n",
       "      <td>0</td>\n",
       "      <td>0</td>\n",
       "      <td>0</td>\n",
       "      <td>No</td>\n",
       "    </tr>\n",
       "    <tr>\n",
       "      <th>4</th>\n",
       "      <td>8.841186e+12</td>\n",
       "      <td>5642494</td>\n",
       "      <td>F</td>\n",
       "      <td>2016-04-29T16:07:23Z</td>\n",
       "      <td>2016-04-29T00:00:00Z</td>\n",
       "      <td>56</td>\n",
       "      <td>JARDIM DA PENHA</td>\n",
       "      <td>0</td>\n",
       "      <td>1</td>\n",
       "      <td>1</td>\n",
       "      <td>0</td>\n",
       "      <td>0</td>\n",
       "      <td>0</td>\n",
       "      <td>No</td>\n",
       "    </tr>\n",
       "  </tbody>\n",
       "</table>\n",
       "</div>"
      ],
      "text/plain": [
       "      PatientId  AppointmentID Gender          ScheduledDay  \\\n",
       "0  2.987250e+13        5642903      F  2016-04-29T18:38:08Z   \n",
       "1  5.589978e+14        5642503      M  2016-04-29T16:08:27Z   \n",
       "2  4.262962e+12        5642549      F  2016-04-29T16:19:04Z   \n",
       "3  8.679512e+11        5642828      F  2016-04-29T17:29:31Z   \n",
       "4  8.841186e+12        5642494      F  2016-04-29T16:07:23Z   \n",
       "\n",
       "         AppointmentDay  Age      Neighbourhood  Scholarship  Hipertension  \\\n",
       "0  2016-04-29T00:00:00Z   62    JARDIM DA PENHA            0             1   \n",
       "1  2016-04-29T00:00:00Z   56    JARDIM DA PENHA            0             0   \n",
       "2  2016-04-29T00:00:00Z   62      MATA DA PRAIA            0             0   \n",
       "3  2016-04-29T00:00:00Z    8  PONTAL DE CAMBURI            0             0   \n",
       "4  2016-04-29T00:00:00Z   56    JARDIM DA PENHA            0             1   \n",
       "\n",
       "   Diabetes  Alcoholism  Handcap  SMS_received No-show  \n",
       "0         0           0        0             0      No  \n",
       "1         0           0        0             0      No  \n",
       "2         0           0        0             0      No  \n",
       "3         0           0        0             0      No  \n",
       "4         1           0        0             0      No  "
      ]
     },
     "execution_count": 270,
     "metadata": {},
     "output_type": "execute_result"
    }
   ],
   "source": [
    "# Load data and print out a few lines\n",
    "df = pd.read_csv(\"Database_No_show_appointments/noshowappointments-kagglev2-may-2016.csv\")\n",
    "df.head()"
   ]
  },
  {
   "cell_type": "markdown",
   "metadata": {},
   "source": [
    "From inspecting the table column names we can see that there are some inconsistencies and typos in the column names we need to fix \"Hipertension\", \"Handcap\" and \"No-Show\"."
   ]
  },
  {
   "cell_type": "code",
   "execution_count": 271,
   "metadata": {},
   "outputs": [
    {
     "data": {
      "text/plain": [
       "(110527, 14)"
      ]
     },
     "execution_count": 271,
     "metadata": {},
     "output_type": "execute_result"
    }
   ],
   "source": [
    "# Determine the number of rows and columns\n",
    "df.shape"
   ]
  },
  {
   "cell_type": "markdown",
   "metadata": {},
   "source": [
    "From the above output we see that there are 110527 entries in this dataset."
   ]
  },
  {
   "cell_type": "markdown",
   "metadata": {},
   "source": [
    "#### Inspecting data types"
   ]
  },
  {
   "cell_type": "code",
   "execution_count": 272,
   "metadata": {},
   "outputs": [
    {
     "name": "stdout",
     "output_type": "stream",
     "text": [
      "<class 'pandas.core.frame.DataFrame'>\n",
      "RangeIndex: 110527 entries, 0 to 110526\n",
      "Data columns (total 14 columns):\n",
      "PatientId         110527 non-null float64\n",
      "AppointmentID     110527 non-null int64\n",
      "Gender            110527 non-null object\n",
      "ScheduledDay      110527 non-null object\n",
      "AppointmentDay    110527 non-null object\n",
      "Age               110527 non-null int64\n",
      "Neighbourhood     110527 non-null object\n",
      "Scholarship       110527 non-null int64\n",
      "Hipertension      110527 non-null int64\n",
      "Diabetes          110527 non-null int64\n",
      "Alcoholism        110527 non-null int64\n",
      "Handcap           110527 non-null int64\n",
      "SMS_received      110527 non-null int64\n",
      "No-show           110527 non-null object\n",
      "dtypes: float64(1), int64(8), object(5)\n",
      "memory usage: 11.8+ MB\n"
     ]
    }
   ],
   "source": [
    "# Inspect data types\n",
    "df.info()"
   ]
  },
  {
   "cell_type": "markdown",
   "metadata": {},
   "source": [
    "From inspecting the cell above and first 5 entries we can see that there are some inconsistencies in the dataset. We need to change the type of PatientId to be int as it is currently float. We also see that the time of the AppointmentDay is missing. We should remove the time component for both ScheduledDay and AppointmentDay for consistency."
   ]
  },
  {
   "cell_type": "markdown",
   "metadata": {},
   "source": [
    "#### Check for missing or duplicated data"
   ]
  },
  {
   "cell_type": "code",
   "execution_count": 273,
   "metadata": {},
   "outputs": [
    {
     "data": {
      "text/plain": [
       "PatientId         0\n",
       "AppointmentID     0\n",
       "Gender            0\n",
       "ScheduledDay      0\n",
       "AppointmentDay    0\n",
       "Age               0\n",
       "Neighbourhood     0\n",
       "Scholarship       0\n",
       "Hipertension      0\n",
       "Diabetes          0\n",
       "Alcoholism        0\n",
       "Handcap           0\n",
       "SMS_received      0\n",
       "No-show           0\n",
       "dtype: int64"
      ]
     },
     "execution_count": 273,
     "metadata": {},
     "output_type": "execute_result"
    }
   ],
   "source": [
    "# Look for missing data\n",
    "df.isnull().sum()"
   ]
  },
  {
   "cell_type": "code",
   "execution_count": 274,
   "metadata": {},
   "outputs": [
    {
     "data": {
      "text/plain": [
       "0"
      ]
     },
     "execution_count": 274,
     "metadata": {},
     "output_type": "execute_result"
    }
   ],
   "source": [
    "# Look for duplicated data\n",
    "df.duplicated().sum()"
   ]
  },
  {
   "cell_type": "markdown",
   "metadata": {},
   "source": [
    "From the three cells above we can see that there is no missing or duplicated data in this dataset."
   ]
  },
  {
   "cell_type": "markdown",
   "metadata": {},
   "source": [
    "#### Check for invalid data"
   ]
  },
  {
   "cell_type": "code",
   "execution_count": 275,
   "metadata": {},
   "outputs": [
    {
     "data": {
      "text/plain": [
       "count    110527.000000\n",
       "mean         37.088874\n",
       "std          23.110205\n",
       "min          -1.000000\n",
       "25%          18.000000\n",
       "50%          37.000000\n",
       "75%          55.000000\n",
       "max         115.000000\n",
       "Name: Age, dtype: float64"
      ]
     },
     "execution_count": 275,
     "metadata": {},
     "output_type": "execute_result"
    }
   ],
   "source": [
    "# Look for invalid data\n",
    "df.Age.describe()"
   ]
  },
  {
   "cell_type": "markdown",
   "metadata": {},
   "source": [
    "From inspecting the above output we see that the min age is -1 and the max age is 115. These values seems unlikely let's investigate further."
   ]
  },
  {
   "cell_type": "code",
   "execution_count": 276,
   "metadata": {},
   "outputs": [
    {
     "data": {
      "text/plain": [
       "1"
      ]
     },
     "execution_count": 276,
     "metadata": {},
     "output_type": "execute_result"
    }
   ],
   "source": [
    "# Filter dataset for rows were age is less than 0\n",
    "df_age_less_0 = df.query('Age < 0')\n",
    "df_age_less_0.PatientId.count()"
   ]
  },
  {
   "cell_type": "code",
   "execution_count": 277,
   "metadata": {},
   "outputs": [
    {
     "data": {
      "text/html": [
       "<div>\n",
       "<style scoped>\n",
       "    .dataframe tbody tr th:only-of-type {\n",
       "        vertical-align: middle;\n",
       "    }\n",
       "\n",
       "    .dataframe tbody tr th {\n",
       "        vertical-align: top;\n",
       "    }\n",
       "\n",
       "    .dataframe thead th {\n",
       "        text-align: right;\n",
       "    }\n",
       "</style>\n",
       "<table border=\"1\" class=\"dataframe\">\n",
       "  <thead>\n",
       "    <tr style=\"text-align: right;\">\n",
       "      <th></th>\n",
       "      <th>PatientId</th>\n",
       "      <th>AppointmentID</th>\n",
       "      <th>Gender</th>\n",
       "      <th>ScheduledDay</th>\n",
       "      <th>AppointmentDay</th>\n",
       "      <th>Age</th>\n",
       "      <th>Neighbourhood</th>\n",
       "      <th>Scholarship</th>\n",
       "      <th>Hipertension</th>\n",
       "      <th>Diabetes</th>\n",
       "      <th>Alcoholism</th>\n",
       "      <th>Handcap</th>\n",
       "      <th>SMS_received</th>\n",
       "      <th>No-show</th>\n",
       "    </tr>\n",
       "  </thead>\n",
       "  <tbody>\n",
       "    <tr>\n",
       "      <th>99832</th>\n",
       "      <td>4.659432e+14</td>\n",
       "      <td>5775010</td>\n",
       "      <td>F</td>\n",
       "      <td>2016-06-06T08:58:13Z</td>\n",
       "      <td>2016-06-06T00:00:00Z</td>\n",
       "      <td>-1</td>\n",
       "      <td>ROMÃO</td>\n",
       "      <td>0</td>\n",
       "      <td>0</td>\n",
       "      <td>0</td>\n",
       "      <td>0</td>\n",
       "      <td>0</td>\n",
       "      <td>0</td>\n",
       "      <td>No</td>\n",
       "    </tr>\n",
       "  </tbody>\n",
       "</table>\n",
       "</div>"
      ],
      "text/plain": [
       "          PatientId  AppointmentID Gender          ScheduledDay  \\\n",
       "99832  4.659432e+14        5775010      F  2016-06-06T08:58:13Z   \n",
       "\n",
       "             AppointmentDay  Age Neighbourhood  Scholarship  Hipertension  \\\n",
       "99832  2016-06-06T00:00:00Z   -1         ROMÃO            0             0   \n",
       "\n",
       "       Diabetes  Alcoholism  Handcap  SMS_received No-show  \n",
       "99832         0           0        0             0      No  "
      ]
     },
     "execution_count": 277,
     "metadata": {},
     "output_type": "execute_result"
    }
   ],
   "source": [
    "df_age_less_0"
   ]
  },
  {
   "cell_type": "markdown",
   "metadata": {},
   "source": [
    "From the above output we see that there is only a single patient whose age is less than 0. Let's assume that this was a typo and can be removed."
   ]
  },
  {
   "cell_type": "code",
   "execution_count": 278,
   "metadata": {},
   "outputs": [
    {
     "name": "stdout",
     "output_type": "stream",
     "text": [
      "3539\n"
     ]
    },
    {
     "data": {
      "text/html": [
       "<div>\n",
       "<style scoped>\n",
       "    .dataframe tbody tr th:only-of-type {\n",
       "        vertical-align: middle;\n",
       "    }\n",
       "\n",
       "    .dataframe tbody tr th {\n",
       "        vertical-align: top;\n",
       "    }\n",
       "\n",
       "    .dataframe thead th {\n",
       "        text-align: right;\n",
       "    }\n",
       "</style>\n",
       "<table border=\"1\" class=\"dataframe\">\n",
       "  <thead>\n",
       "    <tr style=\"text-align: right;\">\n",
       "      <th></th>\n",
       "      <th>PatientId</th>\n",
       "      <th>AppointmentID</th>\n",
       "      <th>Gender</th>\n",
       "      <th>ScheduledDay</th>\n",
       "      <th>AppointmentDay</th>\n",
       "      <th>Age</th>\n",
       "      <th>Neighbourhood</th>\n",
       "      <th>Scholarship</th>\n",
       "      <th>Hipertension</th>\n",
       "      <th>Diabetes</th>\n",
       "      <th>Alcoholism</th>\n",
       "      <th>Handcap</th>\n",
       "      <th>SMS_received</th>\n",
       "      <th>No-show</th>\n",
       "    </tr>\n",
       "  </thead>\n",
       "  <tbody>\n",
       "    <tr>\n",
       "      <th>59</th>\n",
       "      <td>7.184428e+13</td>\n",
       "      <td>5638545</td>\n",
       "      <td>F</td>\n",
       "      <td>2016-04-29T08:08:43Z</td>\n",
       "      <td>2016-04-29T00:00:00Z</td>\n",
       "      <td>0</td>\n",
       "      <td>CONQUISTA</td>\n",
       "      <td>0</td>\n",
       "      <td>0</td>\n",
       "      <td>0</td>\n",
       "      <td>0</td>\n",
       "      <td>0</td>\n",
       "      <td>0</td>\n",
       "      <td>No</td>\n",
       "    </tr>\n",
       "    <tr>\n",
       "      <th>63</th>\n",
       "      <td>2.366233e+14</td>\n",
       "      <td>5628286</td>\n",
       "      <td>M</td>\n",
       "      <td>2016-04-27T10:46:12Z</td>\n",
       "      <td>2016-04-29T00:00:00Z</td>\n",
       "      <td>0</td>\n",
       "      <td>SÃO BENEDITO</td>\n",
       "      <td>0</td>\n",
       "      <td>0</td>\n",
       "      <td>0</td>\n",
       "      <td>0</td>\n",
       "      <td>0</td>\n",
       "      <td>0</td>\n",
       "      <td>No</td>\n",
       "    </tr>\n",
       "    <tr>\n",
       "      <th>64</th>\n",
       "      <td>1.885174e+14</td>\n",
       "      <td>5616082</td>\n",
       "      <td>M</td>\n",
       "      <td>2016-04-25T13:28:21Z</td>\n",
       "      <td>2016-04-29T00:00:00Z</td>\n",
       "      <td>0</td>\n",
       "      <td>ILHA DAS CAIEIRAS</td>\n",
       "      <td>0</td>\n",
       "      <td>0</td>\n",
       "      <td>0</td>\n",
       "      <td>0</td>\n",
       "      <td>0</td>\n",
       "      <td>1</td>\n",
       "      <td>No</td>\n",
       "    </tr>\n",
       "    <tr>\n",
       "      <th>65</th>\n",
       "      <td>2.718818e+14</td>\n",
       "      <td>5628321</td>\n",
       "      <td>M</td>\n",
       "      <td>2016-04-27T10:48:50Z</td>\n",
       "      <td>2016-04-29T00:00:00Z</td>\n",
       "      <td>0</td>\n",
       "      <td>CONQUISTA</td>\n",
       "      <td>0</td>\n",
       "      <td>0</td>\n",
       "      <td>0</td>\n",
       "      <td>0</td>\n",
       "      <td>0</td>\n",
       "      <td>0</td>\n",
       "      <td>No</td>\n",
       "    </tr>\n",
       "    <tr>\n",
       "      <th>67</th>\n",
       "      <td>8.647128e+13</td>\n",
       "      <td>5639264</td>\n",
       "      <td>F</td>\n",
       "      <td>2016-04-29T08:53:02Z</td>\n",
       "      <td>2016-04-29T00:00:00Z</td>\n",
       "      <td>0</td>\n",
       "      <td>NOVA PALESTINA</td>\n",
       "      <td>0</td>\n",
       "      <td>0</td>\n",
       "      <td>0</td>\n",
       "      <td>0</td>\n",
       "      <td>0</td>\n",
       "      <td>0</td>\n",
       "      <td>No</td>\n",
       "    </tr>\n",
       "  </tbody>\n",
       "</table>\n",
       "</div>"
      ],
      "text/plain": [
       "       PatientId  AppointmentID Gender          ScheduledDay  \\\n",
       "59  7.184428e+13        5638545      F  2016-04-29T08:08:43Z   \n",
       "63  2.366233e+14        5628286      M  2016-04-27T10:46:12Z   \n",
       "64  1.885174e+14        5616082      M  2016-04-25T13:28:21Z   \n",
       "65  2.718818e+14        5628321      M  2016-04-27T10:48:50Z   \n",
       "67  8.647128e+13        5639264      F  2016-04-29T08:53:02Z   \n",
       "\n",
       "          AppointmentDay  Age      Neighbourhood  Scholarship  Hipertension  \\\n",
       "59  2016-04-29T00:00:00Z    0          CONQUISTA            0             0   \n",
       "63  2016-04-29T00:00:00Z    0       SÃO BENEDITO            0             0   \n",
       "64  2016-04-29T00:00:00Z    0  ILHA DAS CAIEIRAS            0             0   \n",
       "65  2016-04-29T00:00:00Z    0          CONQUISTA            0             0   \n",
       "67  2016-04-29T00:00:00Z    0     NOVA PALESTINA            0             0   \n",
       "\n",
       "    Diabetes  Alcoholism  Handcap  SMS_received No-show  \n",
       "59         0           0        0             0      No  \n",
       "63         0           0        0             0      No  \n",
       "64         0           0        0             1      No  \n",
       "65         0           0        0             0      No  \n",
       "67         0           0        0             0      No  "
      ]
     },
     "execution_count": 278,
     "metadata": {},
     "output_type": "execute_result"
    }
   ],
   "source": [
    "# Filter dataset for rows were age is equal to 0\n",
    "df_age_0 = df.query('Age == 0')\n",
    "print(df_age_0.PatientId.count())\n",
    "df_age_0.head()"
   ]
  },
  {
   "cell_type": "markdown",
   "metadata": {},
   "source": [
    "From the above output we see that there are 3539 entries where the patient's age is 0. Let's assume that these patients are infants and confirm this assumption by checking that these patients don't have hypertension, diabetes or alcoholism."
   ]
  },
  {
   "cell_type": "code",
   "execution_count": 279,
   "metadata": {},
   "outputs": [
    {
     "data": {
      "text/plain": [
       "False"
      ]
     },
     "execution_count": 279,
     "metadata": {},
     "output_type": "execute_result"
    }
   ],
   "source": [
    "df_age_0.eval('Hipertension == 1 or Diabetes == 1 or Alcoholism == 1').any()"
   ]
  },
  {
   "cell_type": "markdown",
   "metadata": {},
   "source": [
    "From the above output we see that these patients don't have hypertension, diabetes or alcoholism. We will treat these patients as infants."
   ]
  },
  {
   "cell_type": "code",
   "execution_count": 280,
   "metadata": {},
   "outputs": [
    {
     "name": "stdout",
     "output_type": "stream",
     "text": [
      "11\n"
     ]
    },
    {
     "data": {
      "text/html": [
       "<div>\n",
       "<style scoped>\n",
       "    .dataframe tbody tr th:only-of-type {\n",
       "        vertical-align: middle;\n",
       "    }\n",
       "\n",
       "    .dataframe tbody tr th {\n",
       "        vertical-align: top;\n",
       "    }\n",
       "\n",
       "    .dataframe thead th {\n",
       "        text-align: right;\n",
       "    }\n",
       "</style>\n",
       "<table border=\"1\" class=\"dataframe\">\n",
       "  <thead>\n",
       "    <tr style=\"text-align: right;\">\n",
       "      <th></th>\n",
       "      <th>PatientId</th>\n",
       "      <th>AppointmentID</th>\n",
       "      <th>Gender</th>\n",
       "      <th>ScheduledDay</th>\n",
       "      <th>AppointmentDay</th>\n",
       "      <th>Age</th>\n",
       "      <th>Neighbourhood</th>\n",
       "      <th>Scholarship</th>\n",
       "      <th>Hipertension</th>\n",
       "      <th>Diabetes</th>\n",
       "      <th>Alcoholism</th>\n",
       "      <th>Handcap</th>\n",
       "      <th>SMS_received</th>\n",
       "      <th>No-show</th>\n",
       "    </tr>\n",
       "  </thead>\n",
       "  <tbody>\n",
       "    <tr>\n",
       "      <th>63915</th>\n",
       "      <td>3.196321e+13</td>\n",
       "      <td>5700279</td>\n",
       "      <td>F</td>\n",
       "      <td>2016-05-16T09:17:44Z</td>\n",
       "      <td>2016-05-19T00:00:00Z</td>\n",
       "      <td>115</td>\n",
       "      <td>ANDORINHAS</td>\n",
       "      <td>0</td>\n",
       "      <td>0</td>\n",
       "      <td>0</td>\n",
       "      <td>0</td>\n",
       "      <td>1</td>\n",
       "      <td>0</td>\n",
       "      <td>Yes</td>\n",
       "    </tr>\n",
       "    <tr>\n",
       "      <th>58014</th>\n",
       "      <td>9.762948e+14</td>\n",
       "      <td>5651757</td>\n",
       "      <td>F</td>\n",
       "      <td>2016-05-03T09:14:53Z</td>\n",
       "      <td>2016-05-03T00:00:00Z</td>\n",
       "      <td>102</td>\n",
       "      <td>CONQUISTA</td>\n",
       "      <td>0</td>\n",
       "      <td>0</td>\n",
       "      <td>0</td>\n",
       "      <td>0</td>\n",
       "      <td>0</td>\n",
       "      <td>0</td>\n",
       "      <td>No</td>\n",
       "    </tr>\n",
       "    <tr>\n",
       "      <th>79270</th>\n",
       "      <td>9.739430e+12</td>\n",
       "      <td>5747809</td>\n",
       "      <td>M</td>\n",
       "      <td>2016-05-30T16:21:56Z</td>\n",
       "      <td>2016-05-31T00:00:00Z</td>\n",
       "      <td>100</td>\n",
       "      <td>TABUAZEIRO</td>\n",
       "      <td>0</td>\n",
       "      <td>0</td>\n",
       "      <td>0</td>\n",
       "      <td>0</td>\n",
       "      <td>1</td>\n",
       "      <td>0</td>\n",
       "      <td>No</td>\n",
       "    </tr>\n",
       "    <tr>\n",
       "      <th>68127</th>\n",
       "      <td>3.196321e+13</td>\n",
       "      <td>5562812</td>\n",
       "      <td>F</td>\n",
       "      <td>2016-04-08T14:29:17Z</td>\n",
       "      <td>2016-05-16T00:00:00Z</td>\n",
       "      <td>115</td>\n",
       "      <td>ANDORINHAS</td>\n",
       "      <td>0</td>\n",
       "      <td>0</td>\n",
       "      <td>0</td>\n",
       "      <td>0</td>\n",
       "      <td>1</td>\n",
       "      <td>0</td>\n",
       "      <td>Yes</td>\n",
       "    </tr>\n",
       "    <tr>\n",
       "      <th>63912</th>\n",
       "      <td>3.196321e+13</td>\n",
       "      <td>5700278</td>\n",
       "      <td>F</td>\n",
       "      <td>2016-05-16T09:17:44Z</td>\n",
       "      <td>2016-05-19T00:00:00Z</td>\n",
       "      <td>115</td>\n",
       "      <td>ANDORINHAS</td>\n",
       "      <td>0</td>\n",
       "      <td>0</td>\n",
       "      <td>0</td>\n",
       "      <td>0</td>\n",
       "      <td>1</td>\n",
       "      <td>0</td>\n",
       "      <td>Yes</td>\n",
       "    </tr>\n",
       "  </tbody>\n",
       "</table>\n",
       "</div>"
      ],
      "text/plain": [
       "          PatientId  AppointmentID Gender          ScheduledDay  \\\n",
       "63915  3.196321e+13        5700279      F  2016-05-16T09:17:44Z   \n",
       "58014  9.762948e+14        5651757      F  2016-05-03T09:14:53Z   \n",
       "79270  9.739430e+12        5747809      M  2016-05-30T16:21:56Z   \n",
       "68127  3.196321e+13        5562812      F  2016-04-08T14:29:17Z   \n",
       "63912  3.196321e+13        5700278      F  2016-05-16T09:17:44Z   \n",
       "\n",
       "             AppointmentDay  Age Neighbourhood  Scholarship  Hipertension  \\\n",
       "63915  2016-05-19T00:00:00Z  115    ANDORINHAS            0             0   \n",
       "58014  2016-05-03T00:00:00Z  102     CONQUISTA            0             0   \n",
       "79270  2016-05-31T00:00:00Z  100    TABUAZEIRO            0             0   \n",
       "68127  2016-05-16T00:00:00Z  115    ANDORINHAS            0             0   \n",
       "63912  2016-05-19T00:00:00Z  115    ANDORINHAS            0             0   \n",
       "\n",
       "       Diabetes  Alcoholism  Handcap  SMS_received No-show  \n",
       "63915         0           0        1             0     Yes  \n",
       "58014         0           0        0             0      No  \n",
       "79270         0           0        1             0      No  \n",
       "68127         0           0        1             0     Yes  \n",
       "63912         0           0        1             0     Yes  "
      ]
     },
     "execution_count": 280,
     "metadata": {},
     "output_type": "execute_result"
    }
   ],
   "source": [
    "# Filter dataset for rows were age is more than or equal to 100\n",
    "df_age_100 = df.query('Age >= 100')\n",
    "print(df_age_100.PatientId.count())\n",
    "df_age_100.sample(n=5)"
   ]
  },
  {
   "cell_type": "markdown",
   "metadata": {},
   "source": [
    "From the above output we see that there are 11 entries where the patient's age is 100 or more. There are too many to be a typo, so let's assume that these are valid entries."
   ]
  },
  {
   "cell_type": "markdown",
   "metadata": {},
   "source": [
    "\n",
    "### Data Cleaning\n",
    " "
   ]
  },
  {
   "cell_type": "markdown",
   "metadata": {},
   "source": [
    "#### Renaming Columns"
   ]
  },
  {
   "cell_type": "code",
   "execution_count": 281,
   "metadata": {},
   "outputs": [
    {
     "data": {
      "text/plain": [
       "Index(['PatientId', 'AppointmentID', 'Gender', 'ScheduledDay',\n",
       "       'AppointmentDay', 'Age', 'Neighbourhood', 'Scholarship', 'Hypertension',\n",
       "       'Diabetes', 'Alcoholism', 'Handicapped', 'SMS_received', 'No_show'],\n",
       "      dtype='object')"
      ]
     },
     "execution_count": 281,
     "metadata": {},
     "output_type": "execute_result"
    }
   ],
   "source": [
    "# Lets rename the columns to fix the inconsistencies and typos.\n",
    "df.rename(columns = {\"Hipertension\":\"Hypertension\", \"Handcap\":\"Handicapped\", \"No-show\":\"No_show\"}, inplace=True)\n",
    "df.columns"
   ]
  },
  {
   "cell_type": "markdown",
   "metadata": {},
   "source": [
    "#### Fixing data types"
   ]
  },
  {
   "cell_type": "code",
   "execution_count": 282,
   "metadata": {},
   "outputs": [
    {
     "data": {
      "text/plain": [
       "dtype('int64')"
      ]
     },
     "execution_count": 282,
     "metadata": {},
     "output_type": "execute_result"
    }
   ],
   "source": [
    "# Convert PatientId to int.\n",
    "df['PatientId'] = df['PatientId'].astype(int)\n",
    "df.PatientId.dtype"
   ]
  },
  {
   "cell_type": "markdown",
   "metadata": {},
   "source": [
    "#### Remove time component"
   ]
  },
  {
   "cell_type": "code",
   "execution_count": 283,
   "metadata": {},
   "outputs": [],
   "source": [
    "# Create function to remove time\n",
    "def remove_time(df_date):\n",
    "    return pd.to_datetime(df_date, format='%Y-%m-%d').dt.date"
   ]
  },
  {
   "cell_type": "code",
   "execution_count": 284,
   "metadata": {},
   "outputs": [
    {
     "data": {
      "text/html": [
       "<div>\n",
       "<style scoped>\n",
       "    .dataframe tbody tr th:only-of-type {\n",
       "        vertical-align: middle;\n",
       "    }\n",
       "\n",
       "    .dataframe tbody tr th {\n",
       "        vertical-align: top;\n",
       "    }\n",
       "\n",
       "    .dataframe thead th {\n",
       "        text-align: right;\n",
       "    }\n",
       "</style>\n",
       "<table border=\"1\" class=\"dataframe\">\n",
       "  <thead>\n",
       "    <tr style=\"text-align: right;\">\n",
       "      <th></th>\n",
       "      <th>PatientId</th>\n",
       "      <th>AppointmentID</th>\n",
       "      <th>Gender</th>\n",
       "      <th>ScheduledDay</th>\n",
       "      <th>AppointmentDay</th>\n",
       "      <th>Age</th>\n",
       "      <th>Neighbourhood</th>\n",
       "      <th>Scholarship</th>\n",
       "      <th>Hypertension</th>\n",
       "      <th>Diabetes</th>\n",
       "      <th>Alcoholism</th>\n",
       "      <th>Handicapped</th>\n",
       "      <th>SMS_received</th>\n",
       "      <th>No_show</th>\n",
       "    </tr>\n",
       "  </thead>\n",
       "  <tbody>\n",
       "    <tr>\n",
       "      <th>87666</th>\n",
       "      <td>458199273444</td>\n",
       "      <td>5778033</td>\n",
       "      <td>M</td>\n",
       "      <td>2016-06-06</td>\n",
       "      <td>2016-06-06</td>\n",
       "      <td>74</td>\n",
       "      <td>JOANA D´ARC</td>\n",
       "      <td>0</td>\n",
       "      <td>0</td>\n",
       "      <td>0</td>\n",
       "      <td>0</td>\n",
       "      <td>0</td>\n",
       "      <td>0</td>\n",
       "      <td>No</td>\n",
       "    </tr>\n",
       "  </tbody>\n",
       "</table>\n",
       "</div>"
      ],
      "text/plain": [
       "          PatientId  AppointmentID Gender ScheduledDay AppointmentDay  Age  \\\n",
       "87666  458199273444        5778033      M   2016-06-06     2016-06-06   74   \n",
       "\n",
       "      Neighbourhood  Scholarship  Hypertension  Diabetes  Alcoholism  \\\n",
       "87666   JOANA D´ARC            0             0         0           0   \n",
       "\n",
       "       Handicapped  SMS_received No_show  \n",
       "87666            0             0      No  "
      ]
     },
     "execution_count": 284,
     "metadata": {},
     "output_type": "execute_result"
    }
   ],
   "source": [
    "# Remove time for consistency as AppointmentDay time is missing\n",
    "df['ScheduledDay'] = remove_time(df.ScheduledDay)\n",
    "df['AppointmentDay'] = remove_time(df.AppointmentDay)\n",
    "df.sample(n=1)"
   ]
  },
  {
   "cell_type": "markdown",
   "metadata": {},
   "source": [
    "#### Remove invalid data"
   ]
  },
  {
   "cell_type": "code",
   "execution_count": 285,
   "metadata": {},
   "outputs": [],
   "source": [
    "# Remove entry with age equal to -1, assuming this is a typo\n",
    "df.drop(index=df.query('Age < 0').index, inplace=True)"
   ]
  },
  {
   "cell_type": "markdown",
   "metadata": {},
   "source": [
    "<a id='eda'></a>\n",
    "## Exploratory Data Analysis"
   ]
  },
  {
   "cell_type": "markdown",
   "metadata": {},
   "source": [
    "#### Create functions"
   ]
  },
  {
   "cell_type": "code",
   "execution_count": 286,
   "metadata": {},
   "outputs": [],
   "source": [
    "# This function creates a comparison bar chart\n",
    "def create_double_bar_chart(n_elements, spacing, x_lables, s1, s2, s1_label, s2_label, x_label, y_label, title):\n",
    "    # Set figure size\n",
    "    fig, ax = plt.subplots(figsize =(14, 6))\n",
    "    \n",
    "    # Set x-axis locations\n",
    "    x_location = np.arange(n_elements)\n",
    "    \n",
    "    # Set bars width\n",
    "    width = spacing\n",
    "    \n",
    "    # Create bar chart\n",
    "    ax.bar(x_location, s1, color='b', width=width, edgecolor='black', label=s1_label)\n",
    "    ax.bar(x_location + width, s2, color='r', width=width, edgecolor='black', label=s2_label)\n",
    "    \n",
    "    plt.xticks(x_location + width/2, x_lables)\n",
    "    \n",
    "    # Add title, x and y label\n",
    "    plt.title(title)\n",
    "    plt.xlabel(x_label)\n",
    "    plt.ylabel(y_label)\n",
    "    \n",
    "    # Add legend\n",
    "    plt.legend();"
   ]
  },
  {
   "cell_type": "code",
   "execution_count": 287,
   "metadata": {},
   "outputs": [],
   "source": [
    "# This function creates a pie chart\n",
    "\n",
    "# Create wedge labels\n",
    "def wedge_label(pct):\n",
    "    return \"{:.1f}%\".format(pct)\n",
    "\n",
    "# Create pie chart\n",
    "def create_pie_chart(w_labels, s1, x_label, title):\n",
    "    # Set figure size\n",
    "    fig, ax = plt.subplots(figsize =(8, 8))\n",
    "    \n",
    "    # Set wedge properties\n",
    "    wp = {'edgecolor':\"black\"}\n",
    "    \n",
    "    # Set wedges colour\n",
    "    colors = (\"blue\", \"red\", \"magenta\", \"cyan\", \"green\")\n",
    "    \n",
    "    # Create pie chart\n",
    "    wedges, texts, autotexts = ax.pie(s1, autopct = lambda pct: wedge_label(pct), labels = w_labels,\n",
    "                                      colors = colors, startangle = 90, wedgeprops = wp,\n",
    "                                      textprops = dict(color =\"black\"))\n",
    " \n",
    "    # Add legend\n",
    "    ax.legend(wedges, w_labels, title =x_label, loc =\"center left\", bbox_to_anchor =(1, 0, 0.5, 1))\n",
    "    plt.setp(autotexts, size = 10)\n",
    "    \n",
    "    # Add title\n",
    "    plt.title(title);"
   ]
  },
  {
   "cell_type": "code",
   "execution_count": 288,
   "metadata": {},
   "outputs": [],
   "source": [
    "# This function calculates percentage\n",
    "def perc(count, total):\n",
    "    return count/total"
   ]
  },
  {
   "cell_type": "markdown",
   "metadata": {},
   "source": [
    "### Determine percentage of patients attending/missing their appointment"
   ]
  },
  {
   "cell_type": "code",
   "execution_count": 289,
   "metadata": {},
   "outputs": [
    {
     "data": {
      "text/plain": [
       "110526"
      ]
     },
     "execution_count": 289,
     "metadata": {},
     "output_type": "execute_result"
    }
   ],
   "source": [
    "# Determine total number of patients\n",
    "nr_patients = df.Age.count()\n",
    "nr_patients"
   ]
  },
  {
   "cell_type": "code",
   "execution_count": 290,
   "metadata": {},
   "outputs": [],
   "source": [
    "# Filter dataset on no_show\n",
    "df_noshow = df.query('No_show == \"Yes\"')\n",
    "df_show = df.query('No_show == \"No\"')"
   ]
  },
  {
   "cell_type": "code",
   "execution_count": 291,
   "metadata": {},
   "outputs": [
    {
     "data": {
      "text/plain": [
       "22319"
      ]
     },
     "execution_count": 291,
     "metadata": {},
     "output_type": "execute_result"
    }
   ],
   "source": [
    "# Determine number of show/no-show\n",
    "nr_noshow = df_noshow.Age.count()\n",
    "nr_show = df_show.Age.count()\n",
    "nr_noshow"
   ]
  },
  {
   "cell_type": "code",
   "execution_count": 292,
   "metadata": {},
   "outputs": [],
   "source": [
    "# Determine the percentage of patients who attend and don't attend their appointments\n",
    "noshow_perc = perc(df_noshow.Age.count(), nr_patients)\n",
    "show_perc = perc(df_show.Age.count(), nr_patients)"
   ]
  },
  {
   "cell_type": "code",
   "execution_count": 293,
   "metadata": {},
   "outputs": [
    {
     "data": {
      "image/png": "[encoded data removed]",
      "text/plain": [
       "<matplotlib.figure.Figure at 0x7fb065635550>"
      ]
     },
     "metadata": {},
     "output_type": "display_data"
    }
   ],
   "source": [
    "# Create a pie chart to show the percentage of patients attending/missing appointments\n",
    "s1 = [show_perc, noshow_perc]\n",
    "w_labels = df.No_show.unique()\n",
    "x_label = \"No-show\"\n",
    "title = \"Comparing no-show by patients in percentage.\"\n",
    "create_pie_chart(w_labels, s1, x_label, title)"
   ]
  },
  {
   "cell_type": "markdown",
   "metadata": {},
   "source": [
    "From the above plot we see that about 20.2% of patients didn't and 79.8% of patients did attend their appointment."
   ]
  },
  {
   "cell_type": "code",
   "execution_count": 294,
   "metadata": {},
   "outputs": [
    {
     "data": {
      "text/html": [
       "<div>\n",
       "<style scoped>\n",
       "    .dataframe tbody tr th:only-of-type {\n",
       "        vertical-align: middle;\n",
       "    }\n",
       "\n",
       "    .dataframe tbody tr th {\n",
       "        vertical-align: top;\n",
       "    }\n",
       "\n",
       "    .dataframe thead th {\n",
       "        text-align: right;\n",
       "    }\n",
       "</style>\n",
       "<table border=\"1\" class=\"dataframe\">\n",
       "  <thead>\n",
       "    <tr style=\"text-align: right;\">\n",
       "      <th></th>\n",
       "      <th>PatientId</th>\n",
       "      <th>AppointmentID</th>\n",
       "      <th>Age</th>\n",
       "      <th>Scholarship</th>\n",
       "      <th>Hypertension</th>\n",
       "      <th>Diabetes</th>\n",
       "      <th>Alcoholism</th>\n",
       "      <th>Handicapped</th>\n",
       "      <th>SMS_received</th>\n",
       "    </tr>\n",
       "  </thead>\n",
       "  <tbody>\n",
       "    <tr>\n",
       "      <th>count</th>\n",
       "      <td>2.231900e+04</td>\n",
       "      <td>2.231900e+04</td>\n",
       "      <td>22319.000000</td>\n",
       "      <td>22319.000000</td>\n",
       "      <td>22319.000000</td>\n",
       "      <td>22319.000000</td>\n",
       "      <td>22319.000000</td>\n",
       "      <td>22319.000000</td>\n",
       "      <td>22319.000000</td>\n",
       "    </tr>\n",
       "    <tr>\n",
       "      <th>mean</th>\n",
       "      <td>1.467523e+14</td>\n",
       "      <td>5.652259e+06</td>\n",
       "      <td>34.317667</td>\n",
       "      <td>0.115507</td>\n",
       "      <td>0.169004</td>\n",
       "      <td>0.064071</td>\n",
       "      <td>0.030333</td>\n",
       "      <td>0.020297</td>\n",
       "      <td>0.438371</td>\n",
       "    </tr>\n",
       "    <tr>\n",
       "      <th>std</th>\n",
       "      <td>2.549905e+14</td>\n",
       "      <td>7.429686e+04</td>\n",
       "      <td>21.965941</td>\n",
       "      <td>0.319640</td>\n",
       "      <td>0.374764</td>\n",
       "      <td>0.244885</td>\n",
       "      <td>0.171505</td>\n",
       "      <td>0.156670</td>\n",
       "      <td>0.496198</td>\n",
       "    </tr>\n",
       "    <tr>\n",
       "      <th>min</th>\n",
       "      <td>5.628261e+06</td>\n",
       "      <td>5.122866e+06</td>\n",
       "      <td>0.000000</td>\n",
       "      <td>0.000000</td>\n",
       "      <td>0.000000</td>\n",
       "      <td>0.000000</td>\n",
       "      <td>0.000000</td>\n",
       "      <td>0.000000</td>\n",
       "      <td>0.000000</td>\n",
       "    </tr>\n",
       "    <tr>\n",
       "      <th>25%</th>\n",
       "      <td>4.176779e+12</td>\n",
       "      <td>5.614192e+06</td>\n",
       "      <td>16.000000</td>\n",
       "      <td>0.000000</td>\n",
       "      <td>0.000000</td>\n",
       "      <td>0.000000</td>\n",
       "      <td>0.000000</td>\n",
       "      <td>0.000000</td>\n",
       "      <td>0.000000</td>\n",
       "    </tr>\n",
       "    <tr>\n",
       "      <th>50%</th>\n",
       "      <td>3.156794e+13</td>\n",
       "      <td>5.657916e+06</td>\n",
       "      <td>33.000000</td>\n",
       "      <td>0.000000</td>\n",
       "      <td>0.000000</td>\n",
       "      <td>0.000000</td>\n",
       "      <td>0.000000</td>\n",
       "      <td>0.000000</td>\n",
       "      <td>0.000000</td>\n",
       "    </tr>\n",
       "    <tr>\n",
       "      <th>75%</th>\n",
       "      <td>9.454270e+13</td>\n",
       "      <td>5.703175e+06</td>\n",
       "      <td>51.000000</td>\n",
       "      <td>0.000000</td>\n",
       "      <td>0.000000</td>\n",
       "      <td>0.000000</td>\n",
       "      <td>0.000000</td>\n",
       "      <td>0.000000</td>\n",
       "      <td>1.000000</td>\n",
       "    </tr>\n",
       "    <tr>\n",
       "      <th>max</th>\n",
       "      <td>9.996585e+14</td>\n",
       "      <td>5.789986e+06</td>\n",
       "      <td>115.000000</td>\n",
       "      <td>1.000000</td>\n",
       "      <td>1.000000</td>\n",
       "      <td>1.000000</td>\n",
       "      <td>1.000000</td>\n",
       "      <td>4.000000</td>\n",
       "      <td>1.000000</td>\n",
       "    </tr>\n",
       "  </tbody>\n",
       "</table>\n",
       "</div>"
      ],
      "text/plain": [
       "          PatientId  AppointmentID           Age   Scholarship  Hypertension  \\\n",
       "count  2.231900e+04   2.231900e+04  22319.000000  22319.000000  22319.000000   \n",
       "mean   1.467523e+14   5.652259e+06     34.317667      0.115507      0.169004   \n",
       "std    2.549905e+14   7.429686e+04     21.965941      0.319640      0.374764   \n",
       "min    5.628261e+06   5.122866e+06      0.000000      0.000000      0.000000   \n",
       "25%    4.176779e+12   5.614192e+06     16.000000      0.000000      0.000000   \n",
       "50%    3.156794e+13   5.657916e+06     33.000000      0.000000      0.000000   \n",
       "75%    9.454270e+13   5.703175e+06     51.000000      0.000000      0.000000   \n",
       "max    9.996585e+14   5.789986e+06    115.000000      1.000000      1.000000   \n",
       "\n",
       "           Diabetes    Alcoholism   Handicapped  SMS_received  \n",
       "count  22319.000000  22319.000000  22319.000000  22319.000000  \n",
       "mean       0.064071      0.030333      0.020297      0.438371  \n",
       "std        0.244885      0.171505      0.156670      0.496198  \n",
       "min        0.000000      0.000000      0.000000      0.000000  \n",
       "25%        0.000000      0.000000      0.000000      0.000000  \n",
       "50%        0.000000      0.000000      0.000000      0.000000  \n",
       "75%        0.000000      0.000000      0.000000      1.000000  \n",
       "max        1.000000      1.000000      4.000000      1.000000  "
      ]
     },
     "execution_count": 294,
     "metadata": {},
     "output_type": "execute_result"
    }
   ],
   "source": [
    "# Look at the features associated with not attending the appointment\n",
    "df_noshow.describe()"
   ]
  },
  {
   "cell_type": "markdown",
   "metadata": {},
   "source": [
    "### Does gender influence attendance"
   ]
  },
  {
   "cell_type": "code",
   "execution_count": 295,
   "metadata": {},
   "outputs": [
    {
     "data": {
      "text/plain": [
       "array(['F', 'M'], dtype=object)"
      ]
     },
     "execution_count": 295,
     "metadata": {},
     "output_type": "execute_result"
    }
   ],
   "source": [
    "# Determine unique options for gender\n",
    "df.Gender.unique()"
   ]
  },
  {
   "cell_type": "code",
   "execution_count": 296,
   "metadata": {},
   "outputs": [],
   "source": [
    "# Determine number of male and female patients\n",
    "nr_female = df[df['Gender'] == \"F\"].Age.count()\n",
    "nr_male = df[df['Gender'] == \"M\"].Age.count()"
   ]
  },
  {
   "cell_type": "code",
   "execution_count": 297,
   "metadata": {},
   "outputs": [],
   "source": [
    "# Filter dataset on Gender ['F' 'M']\n",
    "female_noshow = df_noshow[df_noshow['Gender'] == \"F\"].Age.count()\n",
    "male_noshow = df_noshow[df_noshow['Gender'] == \"M\"].Age.count()\n",
    "female_show = df[df['Gender'] == \"F\"].Age.count() - female_noshow\n",
    "male_show = df[df['Gender'] == \"M\"].Age.count() - male_noshow"
   ]
  },
  {
   "cell_type": "code",
   "execution_count": 298,
   "metadata": {},
   "outputs": [
    {
     "data": {
      "image/png": "[encoded data removed]",
      "text/plain": [
       "<matplotlib.figure.Figure at 0x7fb0685e93c8>"
      ]
     },
     "metadata": {
      "needs_background": "light"
     },
     "output_type": "display_data"
    }
   ],
   "source": [
    "# Create a bar chart to show the comparison of attendance between different genders\n",
    "nr_options = df.Gender.nunique()\n",
    "s1 = [female_show, male_show]\n",
    "s2 = [female_noshow, male_noshow]\n",
    "labels = df.Gender.unique()\n",
    "x_label = \"Gender\"\n",
    "y_label = \"Number of patients\"\n",
    "title = \"Comparing attendance by different genders.\"\n",
    "create_double_bar_chart(nr_options, 0.45, labels, s1, s2, \"Show\", \"No-show\", x_label, y_label, title)"
   ]
  },
  {
   "cell_type": "code",
   "execution_count": 299,
   "metadata": {},
   "outputs": [
    {
     "data": {
      "text/plain": [
       "0.20314870752655242"
      ]
     },
     "execution_count": 299,
     "metadata": {},
     "output_type": "execute_result"
    }
   ],
   "source": [
    "# Calculate percentage of female patients missing their appointment\n",
    "female_noshow_perc = perc(female_noshow, nr_female)\n",
    "female_noshow_perc"
   ]
  },
  {
   "cell_type": "code",
   "execution_count": 300,
   "metadata": {},
   "outputs": [
    {
     "data": {
      "text/plain": [
       "0.19967947889471915"
      ]
     },
     "execution_count": 300,
     "metadata": {},
     "output_type": "execute_result"
    }
   ],
   "source": [
    "# Calculate percentage of male patients missing their appointment\n",
    "male_noshow_perc = perc(male_noshow, nr_male)\n",
    "male_noshow_perc"
   ]
  },
  {
   "cell_type": "markdown",
   "metadata": {},
   "source": [
    "From the above plot and calculation we see that about 20% of male and female patients missed their appointment. Gender doesn't have a significant influence on attendance."
   ]
  },
  {
   "cell_type": "markdown",
   "metadata": {},
   "source": [
    "### Does a pre-existing condition influence attendance"
   ]
  },
  {
   "cell_type": "markdown",
   "metadata": {},
   "source": [
    "#### Determine if diabetes influences attendance"
   ]
  },
  {
   "cell_type": "code",
   "execution_count": 301,
   "metadata": {},
   "outputs": [
    {
     "data": {
      "text/plain": [
       "array([0, 1])"
      ]
     },
     "execution_count": 301,
     "metadata": {},
     "output_type": "execute_result"
    }
   ],
   "source": [
    "# Determine unique options for diabetes\n",
    "df.Diabetes.unique()"
   ]
  },
  {
   "cell_type": "code",
   "execution_count": 302,
   "metadata": {},
   "outputs": [
    {
     "data": {
      "text/plain": [
       "7943"
      ]
     },
     "execution_count": 302,
     "metadata": {},
     "output_type": "execute_result"
    }
   ],
   "source": [
    "# Determine number of patients with diabetes\n",
    "nr_diabetes = df.query('Diabetes == 1').Age.count()\n",
    "nr_diabetes"
   ]
  },
  {
   "cell_type": "code",
   "execution_count": 303,
   "metadata": {},
   "outputs": [],
   "source": [
    "# Filter dataset on diabetes [0 1]\n",
    "diabetes_noshow = df_noshow.query('Diabetes == 1').Age.count()\n",
    "non_diabetes_noshow = df_noshow.query('Diabetes == 0').Age.count()\n",
    "diabetes_show = nr_diabetes - diabetes_noshow\n",
    "non_diabetes_show = df.query('Diabetes == 0').Age.count() - non_diabetes_noshow"
   ]
  },
  {
   "cell_type": "code",
   "execution_count": 304,
   "metadata": {},
   "outputs": [
    {
     "data": {
      "image/png": "[encoded data removed]",
      "text/plain": [
       "<matplotlib.figure.Figure at 0x7fb068550390>"
      ]
     },
     "metadata": {
      "needs_background": "light"
     },
     "output_type": "display_data"
    }
   ],
   "source": [
    "# Create a bar chart to show the comparison of attendance between patients with/without diabetes\n",
    "nr_options = df.Diabetes.nunique()\n",
    "s1 = [non_diabetes_show, diabetes_show]\n",
    "s2 = [non_diabetes_noshow, diabetes_noshow]\n",
    "labels = df.Diabetes.unique()\n",
    "x_label = \"Diabetes\"\n",
    "y_label = \"Number of patients\"\n",
    "title = \"Comparing attendance by patients with/without diabetes.\"\n",
    "create_double_bar_chart(nr_options, 0.45, labels, s1, s2, \"Show\", \"No-show\", x_label, y_label, title)"
   ]
  },
  {
   "cell_type": "code",
   "execution_count": 305,
   "metadata": {},
   "outputs": [
    {
     "data": {
      "text/plain": [
       "0.18003273322422259"
      ]
     },
     "execution_count": 305,
     "metadata": {},
     "output_type": "execute_result"
    }
   ],
   "source": [
    "# Calculate percentage of patients with diabetes missing their appointment\n",
    "diabetes_noshow_perc = perc(diabetes_noshow, nr_diabetes)\n",
    "diabetes_noshow_perc"
   ]
  },
  {
   "cell_type": "code",
   "execution_count": 306,
   "metadata": {},
   "outputs": [
    {
     "data": {
      "text/plain": [
       "0.20363023112991432"
      ]
     },
     "execution_count": 306,
     "metadata": {},
     "output_type": "execute_result"
    }
   ],
   "source": [
    "# Calculate percentage of patients without diabetes missing their appointment\n",
    "non_diabetes_noshow_perc = perc(non_diabetes_noshow, non_diabetes_noshow + non_diabetes_show)\n",
    "non_diabetes_noshow_perc"
   ]
  },
  {
   "cell_type": "markdown",
   "metadata": {},
   "source": [
    "From the above plot and calculation it seems that diabetes has a small influence on attendance. A patient with diabetes is slightly more likely to attend their appointment, only 18% of patients with diabetes missed their appointment."
   ]
  },
  {
   "cell_type": "markdown",
   "metadata": {},
   "source": [
    "#### Determine if alcoholism influences attendance"
   ]
  },
  {
   "cell_type": "code",
   "execution_count": 307,
   "metadata": {},
   "outputs": [
    {
     "data": {
      "text/plain": [
       "array([0, 1])"
      ]
     },
     "execution_count": 307,
     "metadata": {},
     "output_type": "execute_result"
    }
   ],
   "source": [
    "# Determine unique options for alcoholism\n",
    "df.Alcoholism.unique()"
   ]
  },
  {
   "cell_type": "code",
   "execution_count": 308,
   "metadata": {},
   "outputs": [
    {
     "data": {
      "text/plain": [
       "3360"
      ]
     },
     "execution_count": 308,
     "metadata": {},
     "output_type": "execute_result"
    }
   ],
   "source": [
    "# Determine number of patients with alcoholism\n",
    "nr_alcoholism = df.query('Alcoholism == 1').Age.count()\n",
    "nr_alcoholism"
   ]
  },
  {
   "cell_type": "code",
   "execution_count": 309,
   "metadata": {},
   "outputs": [],
   "source": [
    "# Filter dataset on alcholism\n",
    "alcoholism_noshow = df_noshow.query('Alcoholism == 1').Age.count()\n",
    "non_alcoholism_noshow = df_noshow.query('Alcoholism == 0').Age.count()\n",
    "alcoholism_show = nr_alcoholism - alcoholism_noshow\n",
    "non_alcoholism_show = df.query('Alcoholism == 0').Age.count() - non_alcoholism_noshow"
   ]
  },
  {
   "cell_type": "code",
   "execution_count": 310,
   "metadata": {},
   "outputs": [
    {
     "data": {
      "image/png": "[encoded data removed]",
      "text/plain": [
       "<matplotlib.figure.Figure at 0x7fb0685cd588>"
      ]
     },
     "metadata": {
      "needs_background": "light"
     },
     "output_type": "display_data"
    }
   ],
   "source": [
    "# Create a bar chart to show the comparison of attendance between patients with/without alcoholism\n",
    "nr_options = df.Alcoholism.nunique()\n",
    "s1 = [non_alcoholism_show, alcoholism_show]\n",
    "s2 = [non_alcoholism_noshow, alcoholism_noshow]\n",
    "labels = df.Alcoholism.unique()\n",
    "x_label = \"Alcoholism\"\n",
    "y_label = \"Number of patients\"\n",
    "title = \"Comparing attendance by patients with/without alcoholism.\"\n",
    "create_double_bar_chart(nr_options, 0.45, labels, s1, s2, \"Show\", \"No-show\", x_label, y_label, title)"
   ]
  },
  {
   "cell_type": "code",
   "execution_count": 311,
   "metadata": {},
   "outputs": [
    {
     "data": {
      "text/plain": [
       "0.20148809523809524"
      ]
     },
     "execution_count": 311,
     "metadata": {},
     "output_type": "execute_result"
    }
   ],
   "source": [
    "# Calculate percentage of patients with alcoholism missing their appointment\n",
    "alcoholism_noshow_perc = perc(alcoholism_noshow, nr_alcoholism)\n",
    "alcoholism_noshow_perc"
   ]
  },
  {
   "cell_type": "code",
   "execution_count": 312,
   "metadata": {},
   "outputs": [
    {
     "data": {
      "text/plain": [
       "0.20194837915010358"
      ]
     },
     "execution_count": 312,
     "metadata": {},
     "output_type": "execute_result"
    }
   ],
   "source": [
    "# Calculate percentage of patients without alcoholism missing their appointment\n",
    "non_alcoholism_noshow_perc = perc(non_alcoholism_noshow, non_alcoholism_noshow + non_alcoholism_show)\n",
    "non_alcoholism_noshow_perc"
   ]
  },
  {
   "cell_type": "markdown",
   "metadata": {},
   "source": [
    "From the above plot and calculation we see that about 20% of patients irrespective of alcoholism missed their appointment. Alcoholism doesn't have a significant influence on attendance."
   ]
  },
  {
   "cell_type": "markdown",
   "metadata": {},
   "source": [
    "#### Determine if hypertension influences attendance"
   ]
  },
  {
   "cell_type": "code",
   "execution_count": 313,
   "metadata": {},
   "outputs": [
    {
     "data": {
      "text/plain": [
       "array([1, 0])"
      ]
     },
     "execution_count": 313,
     "metadata": {},
     "output_type": "execute_result"
    }
   ],
   "source": [
    "# Determine unique options for hypertension\n",
    "df.Hypertension.unique()"
   ]
  },
  {
   "cell_type": "code",
   "execution_count": 314,
   "metadata": {},
   "outputs": [
    {
     "data": {
      "text/plain": [
       "21801"
      ]
     },
     "execution_count": 314,
     "metadata": {},
     "output_type": "execute_result"
    }
   ],
   "source": [
    "# Determine number of patients with hypertension\n",
    "nr_hypertension = df.query('Hypertension == 1').Age.count()\n",
    "nr_hypertension"
   ]
  },
  {
   "cell_type": "code",
   "execution_count": 315,
   "metadata": {},
   "outputs": [],
   "source": [
    "# Determine if a patient with hypertension is more likely to miss an appointment\n",
    "# Filter dataset on hypertension\n",
    "hypertension_noshow = df_noshow.query('Hypertension == 1').Age.count()\n",
    "non_hypertension_noshow = df_noshow.query('Hypertension == 0').Age.count()\n",
    "hypertension_show = nr_hypertension - hypertension_noshow\n",
    "non_hypertension_show = df.query('Hypertension == 0').Age.count() - non_hypertension_noshow"
   ]
  },
  {
   "cell_type": "code",
   "execution_count": 316,
   "metadata": {},
   "outputs": [
    {
     "data": {
      "image/png": "[encoded data removed]",
      "text/plain": [
       "<matplotlib.figure.Figure at 0x7fb071634c88>"
      ]
     },
     "metadata": {
      "needs_background": "light"
     },
     "output_type": "display_data"
    }
   ],
   "source": [
    "# Create a bar chart to show the comparison of attendance between patients with/without hypertension\n",
    "nr_options = df.Hypertension.nunique()\n",
    "s1 = [non_hypertension_show, hypertension_show]\n",
    "s2 = [non_hypertension_noshow, hypertension_noshow]\n",
    "labels = [\"0\", \"1\"]\n",
    "x_label = \"Hypertension\"\n",
    "y_label = \"Number of patients\"\n",
    "title = \"Comparing attendance by patients with/without hypertension.\"\n",
    "create_double_bar_chart(nr_options, 0.45, labels, s1, s2, \"Show\", \"No-show\", x_label, y_label, title)"
   ]
  },
  {
   "cell_type": "code",
   "execution_count": 317,
   "metadata": {},
   "outputs": [
    {
     "data": {
      "text/plain": [
       "0.17301958625751113"
      ]
     },
     "execution_count": 317,
     "metadata": {},
     "output_type": "execute_result"
    }
   ],
   "source": [
    "# Calculate percentage of patients with hypertension missing their appointment\n",
    "hypertension_noshow_perc = perc(hypertension_noshow, nr_hypertension)\n",
    "hypertension_noshow_perc"
   ]
  },
  {
   "cell_type": "code",
   "execution_count": 318,
   "metadata": {},
   "outputs": [
    {
     "data": {
      "text/plain": [
       "0.2090391659622429"
      ]
     },
     "execution_count": 318,
     "metadata": {},
     "output_type": "execute_result"
    }
   ],
   "source": [
    "# Calculate percentage of patients without hypertension missing their appointment\n",
    "non_hypertension_noshow_perc = perc(non_hypertension_noshow, non_hypertension_noshow + non_hypertension_show)\n",
    "non_hypertension_noshow_perc"
   ]
  },
  {
   "cell_type": "markdown",
   "metadata": {},
   "source": [
    "From the above plot and calculation it seems that hypertension has a small influence on attendance. A patient with hypertension is slightly more likely to attend their appointment, only 17% of patients with hypertension missed their appointment."
   ]
  },
  {
   "cell_type": "markdown",
   "metadata": {},
   "source": [
    "#### Determine if handicap influences attendance"
   ]
  },
  {
   "cell_type": "code",
   "execution_count": 319,
   "metadata": {},
   "outputs": [
    {
     "data": {
      "text/plain": [
       "array([0, 1, 2, 3, 4])"
      ]
     },
     "execution_count": 319,
     "metadata": {},
     "output_type": "execute_result"
    }
   ],
   "source": [
    "# Determine unique options for handicapped\n",
    "df.Handicapped.unique()"
   ]
  },
  {
   "cell_type": "code",
   "execution_count": 339,
   "metadata": {},
   "outputs": [
    {
     "data": {
      "text/plain": [
       "2241"
      ]
     },
     "execution_count": 339,
     "metadata": {},
     "output_type": "execute_result"
    }
   ],
   "source": [
    "# Determine total number of patients with a handicap\n",
    "nr_handicapped = df.query('Handicapped != 0').Age.count()\n",
    "nr_handicapped"
   ]
  },
  {
   "cell_type": "code",
   "execution_count": 340,
   "metadata": {},
   "outputs": [
    {
     "data": {
      "text/plain": [
       "2042"
      ]
     },
     "execution_count": 340,
     "metadata": {},
     "output_type": "execute_result"
    }
   ],
   "source": [
    "# Determine number of patients with handicap 1\n",
    "nr_hc1 = df.query('Handicapped == 1').Age.count()\n",
    "nr_hc1"
   ]
  },
  {
   "cell_type": "code",
   "execution_count": 341,
   "metadata": {},
   "outputs": [
    {
     "data": {
      "text/plain": [
       "183"
      ]
     },
     "execution_count": 341,
     "metadata": {},
     "output_type": "execute_result"
    }
   ],
   "source": [
    "# Determine number of patients with handicap 2\n",
    "nr_hc2 = df.query('Handicapped == 2').Age.count()\n",
    "nr_hc2"
   ]
  },
  {
   "cell_type": "code",
   "execution_count": 342,
   "metadata": {},
   "outputs": [
    {
     "data": {
      "text/plain": [
       "13"
      ]
     },
     "execution_count": 342,
     "metadata": {},
     "output_type": "execute_result"
    }
   ],
   "source": [
    "# Determine number of patients with handicap 3\n",
    "nr_hc3 = df.query('Handicapped == 3').Age.count()\n",
    "nr_hc3"
   ]
  },
  {
   "cell_type": "code",
   "execution_count": 343,
   "metadata": {},
   "outputs": [
    {
     "data": {
      "text/plain": [
       "3"
      ]
     },
     "execution_count": 343,
     "metadata": {},
     "output_type": "execute_result"
    }
   ],
   "source": [
    "# Determine number of patients with handicap 4\n",
    "nr_hc4 = df.query('Handicapped == 4').Age.count()\n",
    "nr_hc4"
   ]
  },
  {
   "cell_type": "code",
   "execution_count": 330,
   "metadata": {},
   "outputs": [],
   "source": [
    "# Filter dataset on handicapped\n",
    "hc1_noshow = df_noshow.query('Handicapped == 1').Age.count()\n",
    "hc1_show = df.query('Handicapped == 1').Age.count() - hc1_noshow\n",
    "hc2_noshow = df_noshow.query('Handicapped == 2').Age.count()\n",
    "hc2_show = df.query('Handicapped == 2').Age.count() - hc2_noshow\n",
    "hc3_noshow = df_noshow.query('Handicapped == 3').Age.count()\n",
    "hc3_show = df.query('Handicapped == 3').Age.count() - hc3_noshow\n",
    "hc4_noshow = df_noshow.query('Handicapped == 4').Age.count()\n",
    "hc4_show = df.query('Handicapped == 4').Age.count() - hc4_noshow\n",
    "non_hc_noshow = df_noshow.query('Handicapped == 0').Age.count()\n",
    "non_hc_show = df.query('Handicapped == 0').Age.count() - non_hc_noshow"
   ]
  },
  {
   "cell_type": "code",
   "execution_count": 331,
   "metadata": {},
   "outputs": [
    {
     "data": {
      "image/png": "[encoded data removed]",
      "text/plain": [
       "<matplotlib.figure.Figure at 0x7fb071929c88>"
      ]
     },
     "metadata": {
      "needs_background": "light"
     },
     "output_type": "display_data"
    }
   ],
   "source": [
    "# Create a bar chart to show the comparison of attendance between patients with/without a handicap\n",
    "nr_options = df.Handicapped.nunique()\n",
    "s1 = [non_hc_show, hc1_show, hc2_show, hc3_show, hc4_show]\n",
    "s2 = [non_hc_noshow, hc1_noshow, hc2_noshow, hc3_noshow, hc4_noshow]\n",
    "labels = df.Handicapped.unique()\n",
    "x_label = \"Handicapped\"\n",
    "y_label = \"Number of patients\"\n",
    "title = \"Comparing attendance by patients with/without a handicap.\"\n",
    "create_double_bar_chart(nr_options, 0.45, labels, s1, s2, \"Show\", \"No-show\", x_label, y_label, title)"
   ]
  },
  {
   "cell_type": "code",
   "execution_count": 332,
   "metadata": {},
   "outputs": [
    {
     "data": {
      "text/plain": [
       "0.1792360430950049"
      ]
     },
     "execution_count": 332,
     "metadata": {},
     "output_type": "execute_result"
    }
   ],
   "source": [
    "# Calculate percentage of patients with handicap 1 missing their appointment\n",
    "hc1_noshow_perc = perc(hc1_noshow, nr_hc1)\n",
    "hc1_noshow_perc"
   ]
  },
  {
   "cell_type": "code",
   "execution_count": 333,
   "metadata": {},
   "outputs": [
    {
     "data": {
      "text/plain": [
       "0.20218579234972678"
      ]
     },
     "execution_count": 333,
     "metadata": {},
     "output_type": "execute_result"
    }
   ],
   "source": [
    "# Calculate percentage of patients with handicap 2 missing their appointment\n",
    "hc2_noshow_perc = perc(hc2_noshow, nr_hc2)\n",
    "hc2_noshow_perc"
   ]
  },
  {
   "cell_type": "code",
   "execution_count": 334,
   "metadata": {},
   "outputs": [
    {
     "data": {
      "text/plain": [
       "0.23076923076923078"
      ]
     },
     "execution_count": 334,
     "metadata": {},
     "output_type": "execute_result"
    }
   ],
   "source": [
    "# Calculate percentage of patients with handicap 3 missing their appointment\n",
    "hc3_noshow_perc = perc(hc3_noshow, nr_hc3)\n",
    "hc3_noshow_perc"
   ]
  },
  {
   "cell_type": "code",
   "execution_count": 335,
   "metadata": {},
   "outputs": [
    {
     "data": {
      "text/plain": [
       "0.3333333333333333"
      ]
     },
     "execution_count": 335,
     "metadata": {},
     "output_type": "execute_result"
    }
   ],
   "source": [
    "# Calculate percentage of patients with handicap 4 missing their appointment\n",
    "hc4_noshow_perc = perc(hc4_noshow, nr_hc4)\n",
    "hc4_noshow_perc"
   ]
  },
  {
   "cell_type": "code",
   "execution_count": 336,
   "metadata": {},
   "outputs": [
    {
     "data": {
      "text/plain": [
       "0.18161535029004908"
      ]
     },
     "execution_count": 336,
     "metadata": {},
     "output_type": "execute_result"
    }
   ],
   "source": [
    "# Calculate percentage of patients with a handicap missing their appointment\n",
    "hc_noshow_perc = perc(hc1_noshow + hc2_noshow + hc3_noshow + hc4_noshow, nr_handicapped)\n",
    "hc_noshow_perc"
   ]
  },
  {
   "cell_type": "code",
   "execution_count": 344,
   "metadata": {},
   "outputs": [
    {
     "data": {
      "text/plain": [
       "0.20235489680011082"
      ]
     },
     "execution_count": 344,
     "metadata": {},
     "output_type": "execute_result"
    }
   ],
   "source": [
    "# Calculate percentage of patients without a handicap missing their appointment\n",
    "non_hc_noshow_perc = perc(non_hc_noshow, non_hc_noshow + non_hc_show)\n",
    "non_hc_noshow_perc"
   ]
  },
  {
   "cell_type": "markdown",
   "metadata": {},
   "source": [
    "From the above plot and calculations it seems that handicapped has a small influence on attendance. A patient with a handicap is slightly more likely to attend their appointment, only 18% of patients with a handicap missed their appointment. For handicapped 3 and 4 the likelihood of missing an appointment increases but this is due to the small number of patients falling in this range respectively 13 and 3."
   ]
  },
  {
   "cell_type": "markdown",
   "metadata": {},
   "source": [
    "#### Does a pre-existing condition influences attendance?"
   ]
  },
  {
   "cell_type": "markdown",
   "metadata": {},
   "source": [
    "This is dependent on the condition. A patient with diabetes, hypertension or who is handicapped is slightly more likely to attend their appointment. Only 17%, 18% and 18% respectively of patients with diabetes, hypertension or who is handicapped missed their appointment. Alcoholism doesn't have a significant influence on attendance."
   ]
  },
  {
   "cell_type": "markdown",
   "metadata": {},
   "source": [
    "### Does receiving an sms influence attendance"
   ]
  },
  {
   "cell_type": "code",
   "execution_count": 345,
   "metadata": {},
   "outputs": [
    {
     "data": {
      "text/plain": [
       "array([0, 1])"
      ]
     },
     "execution_count": 345,
     "metadata": {},
     "output_type": "execute_result"
    }
   ],
   "source": [
    "# Determine unique options for sms_received\n",
    "df.SMS_received.unique()"
   ]
  },
  {
   "cell_type": "code",
   "execution_count": 346,
   "metadata": {},
   "outputs": [
    {
     "data": {
      "text/plain": [
       "35482"
      ]
     },
     "execution_count": 346,
     "metadata": {},
     "output_type": "execute_result"
    }
   ],
   "source": [
    "# Determine number of patients with sms_received\n",
    "nr_sms_received = df.query('SMS_received == 1').Age.count()\n",
    "nr_sms_received"
   ]
  },
  {
   "cell_type": "code",
   "execution_count": 347,
   "metadata": {},
   "outputs": [],
   "source": [
    "# Filter dataset on sms_received\n",
    "sms_noshow = df_noshow.query('SMS_received == 1').Age.count()\n",
    "sms_show = nr_sms_received - sms_noshow\n",
    "no_sms_noshow = df_noshow.query('SMS_received == 0').Age.count()\n",
    "no_sms_show = df.query('SMS_received == 0').Age.count() - no_sms_noshow"
   ]
  },
  {
   "cell_type": "code",
   "execution_count": 348,
   "metadata": {},
   "outputs": [
    {
     "data": {
      "image/png": "[encoded data removed]",
      "text/plain": [
       "<matplotlib.figure.Figure at 0x7fb071a6c9e8>"
      ]
     },
     "metadata": {
      "needs_background": "light"
     },
     "output_type": "display_data"
    }
   ],
   "source": [
    "# Create a bar chart to show the comparison of attendance between patients with/without an sms_received\n",
    "nr_options = df.SMS_received.nunique()\n",
    "s1 = [no_sms_show, sms_show]\n",
    "s2 = [no_sms_noshow, sms_noshow]\n",
    "labels = df.SMS_received.unique()\n",
    "x_label = \"SMS received\"\n",
    "y_label = \"Number of patients\"\n",
    "title = \"Comparing attendance by patients with/without an sms.\"\n",
    "create_double_bar_chart(nr_options, 0.45, labels, s1, s2, \"Show\", \"No-show\", x_label, y_label, title)"
   ]
  },
  {
   "cell_type": "code",
   "execution_count": 349,
   "metadata": {},
   "outputs": [
    {
     "data": {
      "text/plain": [
       "0.27574544839637"
      ]
     },
     "execution_count": 349,
     "metadata": {},
     "output_type": "execute_result"
    }
   ],
   "source": [
    "# Calculate percentage of patients with sms_received missing their appointment\n",
    "sms_noshow_perc = perc(sms_noshow, nr_sms_received)\n",
    "sms_noshow_perc"
   ]
  },
  {
   "cell_type": "code",
   "execution_count": 350,
   "metadata": {},
   "outputs": [
    {
     "data": {
      "text/plain": [
       "0.16703533926762965"
      ]
     },
     "execution_count": 350,
     "metadata": {},
     "output_type": "execute_result"
    }
   ],
   "source": [
    "# Calculate percentage of patients without sms_received missing their appointment\n",
    "no_sms_noshow_perc = perc(no_sms_noshow, no_sms_noshow + no_sms_show)\n",
    "no_sms_noshow_perc"
   ]
  },
  {
   "cell_type": "markdown",
   "metadata": {},
   "source": [
    "From the above plot and calculations it seems that sms received has some influence on attendance. A patient who received an sms is slightly more likely to miss their appointment, 28% of patients who received an sms missed their appointment."
   ]
  },
  {
   "cell_type": "markdown",
   "metadata": {},
   "source": [
    "### Does having a scholarship influence attendance"
   ]
  },
  {
   "cell_type": "code",
   "execution_count": 351,
   "metadata": {},
   "outputs": [
    {
     "data": {
      "text/plain": [
       "array([0, 1])"
      ]
     },
     "execution_count": 351,
     "metadata": {},
     "output_type": "execute_result"
    }
   ],
   "source": [
    "# Determine unique options for scholarship\n",
    "df.Scholarship.unique()"
   ]
  },
  {
   "cell_type": "code",
   "execution_count": 352,
   "metadata": {},
   "outputs": [
    {
     "data": {
      "text/plain": [
       "10861"
      ]
     },
     "execution_count": 352,
     "metadata": {},
     "output_type": "execute_result"
    }
   ],
   "source": [
    "# Determine number of patients with a scholarship\n",
    "nr_scholarship = df.query('Scholarship == 1').Age.count()\n",
    "nr_scholarship"
   ]
  },
  {
   "cell_type": "code",
   "execution_count": 353,
   "metadata": {},
   "outputs": [],
   "source": [
    "# Filter dataset on scholarship\n",
    "scholarship_noshow = df_noshow.query('Scholarship == 1').Age.count()\n",
    "scholarship_show = nr_scholarship - scholarship_noshow\n",
    "no_scholarship_noshow = df_noshow.query('Scholarship == 0').Age.count()\n",
    "no_scholarship_show = df.query('Scholarship == 0').Age.count() - no_scholarship_noshow"
   ]
  },
  {
   "cell_type": "code",
   "execution_count": 354,
   "metadata": {},
   "outputs": [
    {
     "data": {
      "image/png": "[encoded data removed]",
      "text/plain": [
       "<matplotlib.figure.Figure at 0x7fb07185d4a8>"
      ]
     },
     "metadata": {
      "needs_background": "light"
     },
     "output_type": "display_data"
    }
   ],
   "source": [
    "# Create a bar chart to show the comparison of attendance between patients with/without a scholarship\n",
    "nr_options = df.Scholarship.nunique()\n",
    "s1 = [no_scholarship_show, scholarship_show]\n",
    "s2 = [no_scholarship_noshow, scholarship_noshow]\n",
    "labels = df.Scholarship.unique()\n",
    "x_label = \"Scholarship\"\n",
    "y_label = \"Number of patients\"\n",
    "title = \"Comparing attendance by patients with/without a scholarship.\"\n",
    "create_double_bar_chart(nr_options, 0.45, labels, s1, s2, \"Show\", \"No-show\", x_label, y_label, title)"
   ]
  },
  {
   "cell_type": "code",
   "execution_count": 355,
   "metadata": {},
   "outputs": [
    {
     "data": {
      "text/plain": [
       "0.2373630420771568"
      ]
     },
     "execution_count": 355,
     "metadata": {},
     "output_type": "execute_result"
    }
   ],
   "source": [
    "# Calculate percentage of patients with a scholarship missing their appointment\n",
    "scholarship_noshow_perc = perc(scholarship_noshow, nr_scholarship)\n",
    "scholarship_noshow_perc"
   ]
  },
  {
   "cell_type": "code",
   "execution_count": 356,
   "metadata": {},
   "outputs": [
    {
     "data": {
      "text/plain": [
       "0.19807354638037425"
      ]
     },
     "execution_count": 356,
     "metadata": {},
     "output_type": "execute_result"
    }
   ],
   "source": [
    "# Calculate percentage of patients without a scholarship missing their appointment\n",
    "no_scholarship_noshow_perc = perc(no_scholarship_noshow, no_scholarship_noshow + no_scholarship_show)\n",
    "no_scholarship_noshow_perc"
   ]
  },
  {
   "cell_type": "markdown",
   "metadata": {},
   "source": [
    "From the above plot and calculations it seems that having a scholarship has some influence on attendance. A person with a scholarship is slightly more likely to miss their appointment, 24% of patients with a scholarship missed their appointment."
   ]
  },
  {
   "cell_type": "markdown",
   "metadata": {},
   "source": [
    "### Does age influence attendance"
   ]
  },
  {
   "cell_type": "code",
   "execution_count": 357,
   "metadata": {},
   "outputs": [
    {
     "data": {
      "text/plain": [
       "count    110526.000000\n",
       "mean         37.089219\n",
       "std          23.110026\n",
       "min           0.000000\n",
       "25%          18.000000\n",
       "50%          37.000000\n",
       "75%          55.000000\n",
       "max         115.000000\n",
       "Name: Age, dtype: float64"
      ]
     },
     "execution_count": 357,
     "metadata": {},
     "output_type": "execute_result"
    }
   ],
   "source": [
    "# Look at age distribution\n",
    "df.Age.describe()"
   ]
  },
  {
   "cell_type": "code",
   "execution_count": 358,
   "metadata": {},
   "outputs": [],
   "source": [
    "# Bin edges that will be used to \"cut\" the data into groups\n",
    "bin_edges = [-1, 2, 10, 20, 30, 40, 60, 80, 116]"
   ]
  },
  {
   "cell_type": "code",
   "execution_count": 359,
   "metadata": {},
   "outputs": [],
   "source": [
    "# Labels for the seven age categories\n",
    "bin_names = ['infancy', 'childhood', 'adolescence', 'early_adulthood', 'adulthood', 'middle_age', 'early_elder', 'late_elder'] "
   ]
  },
  {
   "cell_type": "code",
   "execution_count": 360,
   "metadata": {},
   "outputs": [
    {
     "data": {
      "text/html": [
       "<div>\n",
       "<style scoped>\n",
       "    .dataframe tbody tr th:only-of-type {\n",
       "        vertical-align: middle;\n",
       "    }\n",
       "\n",
       "    .dataframe tbody tr th {\n",
       "        vertical-align: top;\n",
       "    }\n",
       "\n",
       "    .dataframe thead th {\n",
       "        text-align: right;\n",
       "    }\n",
       "</style>\n",
       "<table border=\"1\" class=\"dataframe\">\n",
       "  <thead>\n",
       "    <tr style=\"text-align: right;\">\n",
       "      <th></th>\n",
       "      <th>PatientId</th>\n",
       "      <th>AppointmentID</th>\n",
       "      <th>Gender</th>\n",
       "      <th>ScheduledDay</th>\n",
       "      <th>AppointmentDay</th>\n",
       "      <th>Age</th>\n",
       "      <th>Neighbourhood</th>\n",
       "      <th>Scholarship</th>\n",
       "      <th>Hypertension</th>\n",
       "      <th>Diabetes</th>\n",
       "      <th>Alcoholism</th>\n",
       "      <th>Handicapped</th>\n",
       "      <th>SMS_received</th>\n",
       "      <th>No_show</th>\n",
       "      <th>age_category</th>\n",
       "    </tr>\n",
       "  </thead>\n",
       "  <tbody>\n",
       "    <tr>\n",
       "      <th>65626</th>\n",
       "      <td>673883673476169</td>\n",
       "      <td>5653119</td>\n",
       "      <td>F</td>\n",
       "      <td>2016-05-03</td>\n",
       "      <td>2016-05-17</td>\n",
       "      <td>18</td>\n",
       "      <td>SÃO CRISTÓVÃO</td>\n",
       "      <td>0</td>\n",
       "      <td>0</td>\n",
       "      <td>0</td>\n",
       "      <td>0</td>\n",
       "      <td>0</td>\n",
       "      <td>0</td>\n",
       "      <td>Yes</td>\n",
       "      <td>adolescence</td>\n",
       "    </tr>\n",
       "    <tr>\n",
       "      <th>71723</th>\n",
       "      <td>968774538815491</td>\n",
       "      <td>5691961</td>\n",
       "      <td>F</td>\n",
       "      <td>2016-05-12</td>\n",
       "      <td>2016-05-12</td>\n",
       "      <td>56</td>\n",
       "      <td>SÃO CRISTÓVÃO</td>\n",
       "      <td>0</td>\n",
       "      <td>1</td>\n",
       "      <td>0</td>\n",
       "      <td>0</td>\n",
       "      <td>0</td>\n",
       "      <td>0</td>\n",
       "      <td>No</td>\n",
       "      <td>middle_age</td>\n",
       "    </tr>\n",
       "    <tr>\n",
       "      <th>90935</th>\n",
       "      <td>647855282724244</td>\n",
       "      <td>5783169</td>\n",
       "      <td>F</td>\n",
       "      <td>2016-06-07</td>\n",
       "      <td>2016-06-07</td>\n",
       "      <td>52</td>\n",
       "      <td>PRAIA DO CANTO</td>\n",
       "      <td>0</td>\n",
       "      <td>0</td>\n",
       "      <td>0</td>\n",
       "      <td>0</td>\n",
       "      <td>0</td>\n",
       "      <td>0</td>\n",
       "      <td>No</td>\n",
       "      <td>middle_age</td>\n",
       "    </tr>\n",
       "    <tr>\n",
       "      <th>15481</th>\n",
       "      <td>94211979774227</td>\n",
       "      <td>5666284</td>\n",
       "      <td>F</td>\n",
       "      <td>2016-05-05</td>\n",
       "      <td>2016-05-12</td>\n",
       "      <td>20</td>\n",
       "      <td>JESUS DE NAZARETH</td>\n",
       "      <td>0</td>\n",
       "      <td>0</td>\n",
       "      <td>0</td>\n",
       "      <td>0</td>\n",
       "      <td>0</td>\n",
       "      <td>1</td>\n",
       "      <td>Yes</td>\n",
       "      <td>adolescence</td>\n",
       "    </tr>\n",
       "    <tr>\n",
       "      <th>73913</th>\n",
       "      <td>165365543532788</td>\n",
       "      <td>5671143</td>\n",
       "      <td>M</td>\n",
       "      <td>2016-05-06</td>\n",
       "      <td>2016-05-30</td>\n",
       "      <td>58</td>\n",
       "      <td>SÃO PEDRO</td>\n",
       "      <td>0</td>\n",
       "      <td>1</td>\n",
       "      <td>1</td>\n",
       "      <td>0</td>\n",
       "      <td>0</td>\n",
       "      <td>1</td>\n",
       "      <td>No</td>\n",
       "      <td>middle_age</td>\n",
       "    </tr>\n",
       "  </tbody>\n",
       "</table>\n",
       "</div>"
      ],
      "text/plain": [
       "             PatientId  AppointmentID Gender ScheduledDay AppointmentDay  Age  \\\n",
       "65626  673883673476169        5653119      F   2016-05-03     2016-05-17   18   \n",
       "71723  968774538815491        5691961      F   2016-05-12     2016-05-12   56   \n",
       "90935  647855282724244        5783169      F   2016-06-07     2016-06-07   52   \n",
       "15481   94211979774227        5666284      F   2016-05-05     2016-05-12   20   \n",
       "73913  165365543532788        5671143      M   2016-05-06     2016-05-30   58   \n",
       "\n",
       "           Neighbourhood  Scholarship  Hypertension  Diabetes  Alcoholism  \\\n",
       "65626      SÃO CRISTÓVÃO            0             0         0           0   \n",
       "71723      SÃO CRISTÓVÃO            0             1         0           0   \n",
       "90935     PRAIA DO CANTO            0             0         0           0   \n",
       "15481  JESUS DE NAZARETH            0             0         0           0   \n",
       "73913          SÃO PEDRO            0             1         1           0   \n",
       "\n",
       "       Handicapped  SMS_received No_show age_category  \n",
       "65626            0             0     Yes  adolescence  \n",
       "71723            0             0      No   middle_age  \n",
       "90935            0             0      No   middle_age  \n",
       "15481            0             1     Yes  adolescence  \n",
       "73913            0             1      No   middle_age  "
      ]
     },
     "execution_count": 360,
     "metadata": {},
     "output_type": "execute_result"
    }
   ],
   "source": [
    "# Creates age_category column\n",
    "df['age_category'] = pd.cut(df['Age'], bin_edges, labels=bin_names)\n",
    "\n",
    "# Checks for successful creation of this column\n",
    "df.sample(n=5)"
   ]
  },
  {
   "cell_type": "code",
   "execution_count": 361,
   "metadata": {},
   "outputs": [],
   "source": [
    "# Determine number of show/no-show per age category\n",
    "df_noshow_age = df.query('No_show == \"Yes\"').groupby(\"age_category\").count()\n",
    "df_show_age = df.query('No_show == \"No\"').groupby(\"age_category\").count()"
   ]
  },
  {
   "cell_type": "code",
   "execution_count": 362,
   "metadata": {},
   "outputs": [
    {
     "data": {
      "image/png": "[encoded data removed]",
      "text/plain": [
       "<matplotlib.figure.Figure at 0x7fb0717df278>"
      ]
     },
     "metadata": {
      "needs_background": "light"
     },
     "output_type": "display_data"
    }
   ],
   "source": [
    "# Create a bar chart to show the comparison of attendance between patients of different ages\n",
    "nr_options = len(bin_names)\n",
    "s1 = df_show_age.No_show.values\n",
    "s2 = df_noshow_age.No_show.values\n",
    "labels = bin_names\n",
    "x_label = \"Age categories\"\n",
    "y_label = \"Number of patients\"\n",
    "title = \"Comparing attendance by patients of different ages.\"\n",
    "create_double_bar_chart(nr_options, 0.45, labels, s1, s2, \"Show\", \"No-show\", x_label, y_label, title)"
   ]
  },
  {
   "cell_type": "code",
   "execution_count": 363,
   "metadata": {},
   "outputs": [
    {
     "data": {
      "text/plain": [
       "array([0.17577389, 0.21927732, 0.25253836, 0.24624537, 0.2147223 ,\n",
       "       0.18586483, 0.15002957, 0.164446  ])"
      ]
     },
     "execution_count": 363,
     "metadata": {},
     "output_type": "execute_result"
    }
   ],
   "source": [
    "# Calculate percentage of patients of different ages missing their appointment\n",
    "age_noshow_perc = perc(df_noshow_age.No_show.values, df_noshow_age.No_show.values + df_show_age.No_show.values)\n",
    "age_noshow_perc"
   ]
  },
  {
   "cell_type": "markdown",
   "metadata": {},
   "source": [
    "From the above plot and calculations it seems that age has some influence on attendance. A patient in the infancy, middle_age, early_elder or late_elder category is slightly more likely to attend their appointment, respectively 17.6%, 18.6%, 15% and 16% of patients in these age categories missed their appointment. A patient in the childhood, adolescence, early_adulthood or adulthood category is slightly more likely to miss their appointment, respectively 21.9%, 25%, 24.6% and 21.5% of patients in these age categories missed their appointment."
   ]
  },
  {
   "cell_type": "markdown",
   "metadata": {},
   "source": [
    "<a id='conclusions'></a>\n",
    "## Conclusions\n",
    "\n",
    "#### Discussion:\n",
    "In order to determine what percentage of patients don't attend their scheduled appointment, the percentage of show and no-show patients was calculated and then plotted on a pie chart. From the chart we saw that 20.2% of patients didn't and 79.8% of patients did attend their scheduled appointment.\n",
    "\n",
    "In order to determine if gender plays a factor in whether a patient will attend their scheduled appointment, the number and percentage of male and female show/no-show patients were calculated. A plot was created to compare genders and the number of show/no-shows. From the gender show/no-show comparison plot and calculation we saw that about 20% of male and female patients missed their appointment. It can be concluded that gender doesn't have a significant influence on attendance.\n",
    "\n",
    "In order to determine whether a pre-existing condition influences attendance the number and percentage of show/no-show for patients with/without diabetes, alcoholism, hypertension and handicapped was calculated. A plot was created to compare each condition and the number of show/no-shows.\n",
    "\n",
    "From the diabetes show/no-show comparison plot and calculation we saw that diabetes has a small influence on attendance. A patient with diabetes is slightly more likely to attend their appointment, only 18% of patients with diabetes missed their appointment.\n",
    "\n",
    "From the alcoholism show/no-show comparison plot and calculation we see that about 20% of patients irrespective of alcoholism missed their appointment. Alcoholism doesn't have a significant influence on attendance.\n",
    "\n",
    "From the hypertension show/no-show comparison plot and calculation it seems that hypertension has a small influence on attendance. A patient with hypertension is slightly more likely to attend their appointment, only 17% of patients with hypertension missed their appointment.\n",
    "\n",
    "From the handicapped show/no-show comparison plot and calculations it seems that handicapped has a small influence on attendance. A patient with a handicap is slightly more likely to attend their appointment, only 18% of patients with a handicap missed their appointment. For handicapped 3 and 4 the likelihood of missing an appointment increases but this is due to the small number of patients falling in this range respectively 13 and 3.\n",
    "\n",
    "Does a pre-existing condition influences attendance? This is dependent on the condition. A patient with diabetes, hypertension or who is handicapped is slightly more likely to attend their appointment. Alcoholism doesn't have a significant influence on attendance.\n",
    "\n",
    "In order to determine if receiving an sms plays a factor in whether a patient will attend their scheduled appointment the number and percentage of show/no-show for patients who received/didn't receive an sms was calculated. A plot was created to compare sms received/didn't receive and the number of show/no-shows. From the sms received show/no-show comparison plot and calculations it seems that sms received has some influence on attendance. A patient who received an sms is slightly more likely to miss their appointment, 28% of patients who received an sms missed their appointment. An assumption was made that this was a reminder sms of their appointment, but this might not be the case.\n",
    "\n",
    "In order to determine whether having a scholarship influences attendance the number and percentage of show/no-show for patients with/without a scholarship was calculated. A plot was created to compare scholarship and the number of show/no-shows. From the scholarship show/no-show comparison plot and calculations it seems that having a scholarship has some influence on attendance. A patient with a scholarship is slightly more likely to miss their appointment, 24% of patients with a scholarship missed their appointment.\n",
    "\n",
    "In order to determine whether age influences attendance the number and percentage of show/no-show for patients in different age categories were calculated. A plot was created to compare age categories and the number of show/no-shows. From the age category show/no-show comparison plot and calculations it seems that age has some influence on attendance. A patient in the infancy, middle_age, early_elder or late_elder category is slightly more likely to attend their appointment, respectively 17.6%, 18.6%, 15% and 16% of patients in these age categories missed their appointment. A patient in the childhood, adolescence, early_adulthood or adulthood category is slightly more likely to miss their appointment, respectively 21.9%, 25%, 24.6% and 21.5% of patients in these age categories missed their appointment. My exploration was limited to 8 age categories, for a better understanding of if certain ages influence no-show more than others all ages should be explored.\n",
    "\n",
    "#### Results: Our data implies that\n",
    "1. Appointments are missed by 20.2% of patients.\n",
    "2. 20% of male and female patients missed their appointment.\n",
    "3. A patient with a pre-existing condition (diabetes, hypertension or who is handicapped) is 2-3% more likely to attend their appointment than a patient without a pre-existing condition. \n",
    "4. A patient who received an sms is 10% more likely to miss their appointment than a patient who didn't receive an sms.\n",
    "5. A patient with a scholarship is 4% more likely to miss their appointment than a patient without a scholarship. \n",
    "6. A patient who is below 2 and above 39 years of age is 5-10% more likely to attend their appointment than a patient who is 3 to 39 years of age.\n",
    "\n",
    "#### Limitations: Our data has a few limitations\n",
    "1. 8 of the 14 columns contained categorical data.\n",
    "2. We are missing details for some of the columns, which might aid in being able to draw conclusions. For example an explanation of the patient and appointment id would be useful, does the value contain the reason for the appointment or whether the patient has a pre-existing condition. Another example of missing detail is the sms_received column: was this a reminder sms sent to all the patients or only a subset of the patients, when was this sms sent. A final example of missing detail would be the appointment day column which doesn't have the appointment time, which might be an important factor in missing/attending the appointment. \n",
    "\n",
    "## Submitting your Project "
   ]
  },
  {
   "cell_type": "code",
   "execution_count": 1,
   "metadata": {},
   "outputs": [
    {
     "data": {
      "text/plain": [
       "0"
      ]
     },
     "execution_count": 1,
     "metadata": {},
     "output_type": "execute_result"
    }
   ],
   "source": [
    "from subprocess import call\n",
    "call(['python', '-m', 'nbconvert', 'Investigate_a_Dataset.ipynb'])"
   ]
  },
  {
   "cell_type": "code",
   "execution_count": null,
   "metadata": {},
   "outputs": [],
   "source": []
  }
 ],
 "metadata": {
  "kernelspec": {
   "display_name": "Python 3",
   "language": "python",
   "name": "python3"
  },
  "language_info": {
   "codemirror_mode": {
    "name": "ipython",
    "version": 3
   },
   "file_extension": ".py",
   "mimetype": "text/x-python",
   "name": "python",
   "nbconvert_exporter": "python",
   "pygments_lexer": "ipython3",
   "version": "3.6.3"
  }
 },
 "nbformat": 4,
 "nbformat_minor": 2
}
